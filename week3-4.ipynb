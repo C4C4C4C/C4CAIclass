{
 "cells": [
  {
   "cell_type": "markdown",
   "metadata": {},
   "source": [
    "# Introduction to Artificial Intelligence for Non Computing"
   ]
  },
  {
   "cell_type": "markdown",
   "metadata": {},
   "source": [
    "## Practical 2 (weeks 3 - 4)"
   ]
  },
  {
   "cell_type": "markdown",
   "metadata": {},
   "source": [
    "## Search Techniques"
   ]
  },
  {
   "cell_type": "markdown",
   "metadata": {},
   "source": [
    "The following links provide additional information about depth first search and breath first search"
   ]
  },
  {
   "cell_type": "markdown",
   "metadata": {},
   "source": [
    "- Depth first search:   link：https://pan.baidu.com/s/1bkLHKKbSBNpfFuKwDyURqw  password：oy76\n",
    "- Breath first search:  link：https://pan.baidu.com/s/176g5q0W3rGbSAM5tZMraeg   password：7mdh"
   ]
  },
  {
   "cell_type": "markdown",
   "metadata": {},
   "source": [
    "#### Theory Questions "
   ]
  },
  {
   "cell_type": "markdown",
   "metadata": {},
   "source": [
    "1\\. What is an algorithm? A sequence of steps such as a recipe or a movie script.\n",
    "\n",
    "As a movie viewer, please write an algorithm for a process to \"see a movie\". Include details of the following for example (add additional information yourself):\n",
    "\t- The start conditions \n",
    "\t-- I want to watch a movie\n",
    "\t- Roles (people/actors involved) \n",
    "    --watcher, ticket seller etc \n",
    "    -Equipment required (\"props\")\n",
    "    --seats, ticket etc\n",
    "    - The scenes \n",
    "    -- scene 1 - buy ticket \n",
    "    -- ??? what happens next\n",
    "    -- scene 3, scene 3 ...\n",
    "    - Results/outcomes\n",
    "    -- ?\n"
   ]
  },
  {
   "cell_type": "markdown",
   "metadata": {},
   "source": [
    "condition:  \n",
    "i want to watch a movie  \n",
    "i can find this movie from the internet  \n",
    "someone will go with me  \n",
    "  \n",
    "roles  \n",
    "me  \n",
    "my friend(s)  \n",
    "    \n",
    "prop:  \n",
    "seats  ticket conductor  \n",
    "  \n",
    "scene one:  \n",
    "go to cinema by bus  \n",
    "  \n",
    "scene two:\n",
    "buy tickets  \n",
    "  \n",
    "scene three:  \n",
    "watching movie  \n",
    "  \n",
    "result:  \n",
    "the movie is a pice of shit, i waste my money!  \n",
    "\n",
    "\n",
    "***"
   ]
  },
  {
   "cell_type": "markdown",
   "metadata": {},
   "source": [
    "2\\. A farmer with his wolf, duck and bag of corn come to the east side of a river they wish to cross. There is a boat at the rivers edge, but of course only the farmer can row. The boat can only hold two things (including the rower) at any one time. If the wolf is ever left alone with the duck, the wolf will eat it. Similarly if the duck is ever left alone with the corn, the duck will eat it. How can the farmer get across the river so that all four arrive safely on the other side? "
   ]
  },
  {
   "cell_type": "markdown",
   "metadata": {},
   "source": [
    "Step 1: The farmer takes duck across the river, and rows back.  \n",
    "Step 2: The farmer takes wolf across the river, and takes duck back.  \n",
    "Step 3: The farmer takes cron across the river, and rows back.  \n",
    "Step 4: The farmer takes duck across the river.  \n",
    "Finish.\n",
    "\n",
    "***"
   ]
  },
  {
   "cell_type": "markdown",
   "metadata": {},
   "source": [
    " "
   ]
  },
  {
   "cell_type": "markdown",
   "metadata": {},
   "source": [
    "3\\.Explain why we determine our problem goals before we write the problem formulation (including the model and deciding what algorithm or techniques to use - for example search, or other method).\n",
    "\n",
    "See Chapter3.1 (Russel & Norvig)"
   ]
  },
  {
   "cell_type": "markdown",
   "metadata": {},
   "source": [
    "Because, when we are writing our problem goals, we can imagine the scene that we are solving the problems. At this time, wen can take what we are interested in, what is important, what can be ingnored. As aresult we can foucus more on our problem solving process to achieve our goals.\n",
    "\n",
    "****"
   ]
  },
  {
   "cell_type": "markdown",
   "metadata": {},
   "source": [
    "4\\. This question requires you to perform BFS and DFS on paper.\n",
    "\n",
    "<img src=\"img/p1.png\" width=\"180\" height=\"180\" >\n",
    "\n",
    "1. Simulate (on pencil-and-paper) breadth-first search starting from node A when the goal node is K.\n",
    "2. Simulate (on pencil-and-paper) depth first search starting from node A when the goal node is I.\n"
   ]
  },
  {
   "cell_type": "markdown",
   "metadata": {},
   "source": [
    "1. A→B→C , D→E , F , D→H , G→E , K\n",
    "2. A→B→C→E→F→D→G→I\n",
    "\n",
    "***"
   ]
  },
  {
   "cell_type": "markdown",
   "metadata": {},
   "source": [
    "5\\.Consider a state space where the start state is number 1 and each state  k has two successors: numbers 2k and 2k + 1.\n",
    "- a. Draw the portion of the state space for states 1 to 15.\n",
    "- b. Suppose the goal state is 11. List the order in which nodes will be visited for breadthfirst\n",
    "search, depth-limited search with limit 3, and iterative deepening search.\n",
    "- c. How well would bidirectional search work on this problem? What is the branching\n",
    "factor in each direction of the bidirectional search?\n",
    "- d. Does the answer to (c) suggest a reformulation of the problem that would allow you to\n",
    "solve the problem of getting from state 1 to a given goal state with almost no search?\n",
    "- e. Call the action going from k to 2k Left, and the action going to 2k + 1 Right. Can you\n",
    "find an algorithm that outputs the solution to this problem without any search at all?\n",
    "\n",
    "See textbook Chapter3.15"
   ]
  },
  {
   "cell_type": "markdown",
   "metadata": {},
   "source": [
    "a.1→2，3； 2→4，5   3→6，7；4→8，9   5→10，11   6→12，13    7→14，15  \n",
    "b.BFS   1; 2,3 ; 4,5,6,7 ; 8,9,10,11  \n",
    "  DFS   1  2  4  9  5 10  11  \n",
    "  iterative deepening: 1;1 2 3 ;1 2 4 5 3 6 7; 1 2 4  8 9  5  10 11  \n",
    "c.it perform well on this problem\n",
    "d.\n",
    "e."
   ]
  },
  {
   "cell_type": "markdown",
   "metadata": {},
   "source": [
    "### Programming Excercises"
   ]
  },
  {
   "cell_type": "markdown",
   "metadata": {},
   "source": [
    "1\\.Write a program to solve a classic ancient Chinese puzzle:  \n",
    " We count 35 heads and 94 legs among the chickens and rabbits in a farm. How many rabbits and how many chickens do we have? "
   ]
  },
  {
   "cell_type": "code",
   "execution_count": 1,
   "metadata": {},
   "outputs": [
    {
     "name": "stdout",
     "output_type": "stream",
     "text": [
      "chicken: 17\n",
      "rabbits: 15\n"
     ]
    }
   ],
   "source": [
    "heads = 32\n",
    "for chicken in range(32):\n",
    "    if chicken*2 + 4*(heads-chicken) == 94:\n",
    "        print(\"chicken:\",chicken)\n",
    "        print(\"rabbits:\",heads-chicken)"
   ]
  },
  {
   "cell_type": "markdown",
   "metadata": {},
   "source": [
    "2\\. _Social networking_ Please look at the graph below of social relationships. You have a mango farm, you need to find a mango buyer and sell him your mango that you have grown (just a small farm). To this end, our principle is to use our social network of friends separated by one degree, and then second degree friends (friends of friends), third degree friends (friends of friends of friends).\n",
    "\n",
    "Use the depth first algorithm to search your network until you find a mango seller. \n",
    "\n",
    "We make an assumption that if the person's name ends with m, then it means the person must be the mango seller!\n",
    "\n",
    "\n",
    "<img src=\"img/p3.png\" width=\"500\" height=\"400\" >"
   ]
  },
  {
   "cell_type": "code",
   "execution_count": 2,
   "metadata": {},
   "outputs": [
    {
     "name": "stdout",
     "output_type": "stream",
     "text": [
      "You\n",
      "Claire\n",
      "Thom\n"
     ]
    }
   ],
   "source": [
    "graph = {\n",
    "    \"You\":[\"Bob\",\"Alice\",\"Claire\"],\n",
    "    \"Bob\":[\"Anuj\",\"Peggy\"],\n",
    "    \"Alice\" : [\"Peggy\"],\n",
    "    \"Claire\" : [\"Thom\",\"Jonny\"],\n",
    "    \"Anuj\":[\"Bob\"],\n",
    "    \"Peggy\":[\"Bob\",\"Alice\"],\n",
    "    \"Thom\":[\"Claire\"],\n",
    "    \"Jonny\":[\"Jonny\"]\n",
    "}\n",
    "stack = []\n",
    "stack.append(\"You\")\n",
    "seen = set()\n",
    "seen.add(\"You\")\n",
    "a=\"\"\n",
    "while(len(stack)>0):\n",
    "    vertex = stack.pop()\n",
    "    nodes = graph[vertex]\n",
    "    for w in nodes:\n",
    "        if w not in seen:\n",
    "            stack.append(w)\n",
    "            seen.add(w)\n",
    "            if w[-1]==\"m\":\n",
    "                a = w\n",
    "                break                 \n",
    "    print(vertex)\n",
    "    if a==\"Thom\":\n",
    "        print(a)\n",
    "        break\n"
   ]
  },
  {
   "cell_type": "markdown",
   "metadata": {},
   "source": [
    "3\\. Depth First traverse：Use depth first traversal to traverse all the DLL files on the C disk and output the file names.\n",
    "\n",
    "Update your code to search for a particular filename.\n",
    "\n",
    "What protocol did you use to select the next node to expand on the fringe?"
   ]
  },
  {
   "cell_type": "code",
   "execution_count": 1,
   "metadata": {},
   "outputs": [
    {
     "name": "stdout",
     "output_type": "stream",
     "text": [
      "28630\n"
     ]
    }
   ],
   "source": [
    "import os\n",
    "\n",
    "root ='C:/'\n",
    "stack = []\n",
    "result = []\n",
    "stack.append(root)\n",
    "seen = set()\n",
    "seen.add(root)\n",
    "while(len(stack)>0):\n",
    "        try:\n",
    "            vertex=stack.pop()\n",
    "            nodes=os.listdir(vertex)\n",
    "            for w in nodes:\n",
    "                a = vertex+w\n",
    "                if (w not in seen):\n",
    "                    if os.path.isdir(a)==True:\n",
    "                        a=a+'/'\n",
    "                        stack.append(a)\n",
    "                        seen.add(a)\n",
    "                    else:                   \n",
    "                        if os.path.splitext(a)[1]=='.dll' or os.path.splitext(a)[1]=='.DLL':\n",
    "                            seen.add(a)\n",
    "                            result.append(os.path.split(a)[1])\n",
    "                        else:\n",
    "                            seen.add(a)\n",
    "        except:\n",
    "            pass    \n",
    "\n",
    "print(result)          \n"
   ]
  },
  {
   "cell_type": "markdown",
   "metadata": {},
   "source": [
    "4\\.\n",
    "Breadth First traverse：Use breadth traversal to traverse all the DLL files on the C disk and output the filename.\n",
    "\n",
    "Update your code to search for a particular filename."
   ]
  },
  {
   "cell_type": "code",
   "execution_count": 9,
   "metadata": {},
   "outputs": [],
   "source": [
    "import os\n",
    "root ='C:/'\n",
    "stack = []\n",
    "result = []\n",
    "stack.append(root)\n",
    "seen = set()\n",
    "seen.add(root)\n",
    "while(len(stack)>0):\n",
    "        try:\n",
    "            vertex=stack.pop(0)\n",
    "            nodes=os.listdir(vertex)\n",
    "            for w in nodes:\n",
    "                a = vertex+w\n",
    "                if (w not in seen):\n",
    "                    if os.path.isdir(a)==True:\n",
    "                        a=a+'/'\n",
    "                        stack.append(a)\n",
    "                        seen.add(a)\n",
    "                    else:                   \n",
    "                        if os.path.splitext(a)[1]=='.dll' or os.path.splitext(a)[1]=='.DLL':\n",
    "                            seen.add(a)\n",
    "                            result.append(os.path.split(a)[1])\n",
    "                        else:\n",
    "                            seen.add(a)\n",
    "        except:\n",
    "            pass    \n",
    "\n",
    "print(result)     "
   ]
  },
  {
   "cell_type": "markdown",
   "metadata": {},
   "source": [
    "5\\. Uniform cost search"
   ]
  },
  {
   "cell_type": "markdown",
   "metadata": {},
   "source": [
    "Consider a state space where the start state is 2 and each state k has three successors: numbers 2k, 2k+1, 2k+2. The cost from state k to each respective child is k, ground(k/2), k+2.\n",
    "\n",
    "can you implement a uniform-cost-search algorithm with python. The goal state is number 85."
   ]
  },
  {
   "cell_type": "code",
   "execution_count": null,
   "metadata": {},
   "outputs": [],
   "source": [
    "from queue import PriorityQueue\n",
    "graph = []\n",
    "row = [0]\n",
    "\n",
    "class node(object):\n",
    "    def __init__(self, priority, description):\n",
    "        self.priority = priority\n",
    "        self.description = description\n",
    "        return\n",
    "\n",
    "    def __lt__(self, other):\n",
    "        return self.priority < other.priority\n",
    "\n",
    "def findsub(a):\n",
    "    point = 0\n",
    "    sub = []\n",
    "    for i in range(127):\n",
    "        if a == graph[0][i]:\n",
    "            point = i\n",
    "            break\n",
    "    count = 0\n",
    "    list=[]\n",
    "    for i in graph[point]:\n",
    "        if i !=0:\n",
    "            list.append(count)\n",
    "        count = count+1\n",
    "    for i in list:\n",
    "        sub.append(graph[0][i])\n",
    "    sub.pop(0)\n",
    "    return sub\n",
    "\n",
    "def findsubcost(a):\n",
    "    point = 0\n",
    "    subcost = []\n",
    "    for i in range(127):\n",
    "        if a == graph[0][i]:\n",
    "            point = i\n",
    "            break\n",
    "    for i in graph[point]:\n",
    "        if i !=0:\n",
    "            subcost.append(i)\n",
    "    subcost.pop(0)\n",
    "    return subcost\n",
    "\n",
    "for i in range(127):             #生成横坐标\n",
    "    row.append(i)\n",
    "    for j in range(8):\n",
    "        if i == (2**j - 1):\n",
    "            row.pop()\n",
    "            break\n",
    "graph.append(row)\n",
    "for i in row[1:]:                #生成纵坐标\n",
    "    row1 = [i]\n",
    "    graph.append(row1)\n",
    "for q in graph[1:]:     #生成矩阵\n",
    "    for p in graph[0][1:]:\n",
    "        if p==2*q[0]:\n",
    "            q.append(q[0])\n",
    "        elif p==2*q[0] + 1:\n",
    "            q.append(int(q[0]/2))\n",
    "        elif p==2*q[0] + 2:\n",
    "            q.append(q[0]+2)\n",
    "        else:\n",
    "            q.append(0)\n",
    "\n",
    "\n",
    "visited = set()\n",
    "queue = PriorityQueue()\n",
    "queue.put(node(0, 2))\n",
    "path = []\n",
    "while queue:\n",
    "    n = queue.get()\n",
    "    cost = n.priority\n",
    "    state = n.description\n",
    "    if state not in visited:\n",
    "        visited.add(state)\n",
    "    if state == 85:\n",
    "        path.append(85)\n",
    "        break\n",
    "    ct = 0\n",
    "    for i in findsub(state):\n",
    "        thiscost = findsubcost(state)[ct]\n",
    "        ct =ct+1\n",
    "        if i not in visited:\n",
    "            total_cost = cost + thiscost\n",
    "            queue.put(node(total_cost, i))\n"
   ]
  },
  {
   "cell_type": "markdown",
   "metadata": {},
   "source": [
    "6\\.a* question"
   ]
  },
  {
   "cell_type": "markdown",
   "metadata": {},
   "source": [
    "A cute cat stays in the A position, he is hungry. But the food is placed in the B position. Can you help him to find the food? \n",
    "Hint:  The problem isn't easy. It's essential for you to understand the A* algorithm before you solve this problem. Then, you can use some thought of Node in java, when you are in code.\n",
    "\n",
    "<img src=\"img/p4.png\" width=\"500\" height=\"400\" >\n"
   ]
  },
  {
   "cell_type": "code",
   "execution_count": null,
   "metadata": {},
   "outputs": [],
   "source": [
    "graph=[[0,0,0,0,0,0,0],\n",
    "       [0,0,0,1,0,0,0],\n",
    "       [0,1,0,1,0,2,0],\n",
    "       [0,0,0,1,0,0,0],\n",
    "       [0,0,0,0,0,0,0],\n",
    "      ]\n",
    "\n"
   ]
  }
 ],
 "metadata": {
  "kernelspec": {
   "display_name": "Python 3",
   "language": "python",
   "name": "python3"
  },
  "language_info": {
   "codemirror_mode": {
    "name": "ipython",
    "version": 3
   },
   "file_extension": ".py",
   "mimetype": "text/x-python",
   "name": "python",
   "nbconvert_exporter": "python",
   "pygments_lexer": "ipython3",
   "version": "3.6.5"
  }
 },
 "nbformat": 4,
 "nbformat_minor": 2
}
